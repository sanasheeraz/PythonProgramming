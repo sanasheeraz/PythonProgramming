{
 "cells": [
  {
   "cell_type": "markdown",
   "metadata": {},
   "source": [
    "## Q : 1 Define Object Oriented Programming Language?\n",
    "#### Object-oriented programming (OOP) is a software programming model constructed around objects. This model compartmentalizes data into objects (data fields) and describes object contents and behavior through the declaration of classes (methods).\n",
    "#### OOP features include the following:\n",
    "\n",
    "#### Encapsulation: This makes the program structure easier to manage because each object’s implementation and state are hidden behind well-defined boundaries.\n",
    "#### Polymorphism: This means abstract entities are implemented in multiple ways.\n",
    "#### Inheritance: This refers to the hierarchical arrangement of implementation fragments.\n",
    "#### Object-oriented programming allows for simplified programming. Its benefits include reusability, refactoring, extensibility, maintenance and efficiency."
   ]
  },
  {
   "cell_type": "markdown",
   "metadata": {},
   "source": [
    "## Q : 2 List down the Benefits of OOP?\n",
    "#### The benefits of OOP are mentioned below:\n",
    "\n",
    "#### OOP provides a clear modular structure for programs.\n",
    "#### It is good for defining abstract data types.\n",
    "#### Implementation details are hidden from other modules and other modules has a clearly defined interface.\n",
    "#### It is easy to maintain and modify existing code as new objects can be created with small differences to existing ones.\n",
    "#### objects, methods, instance, message passing, inheritance are some important properties provided by these particular languages\n",
    "#### encapsulation, polymorphism, abstraction are also counts in these fundamentals of programming language.\n",
    "#### It implements real life scenario.\n",
    "#### In OOP, programmer not only defines data types but also deals with operations applied for data structures."
   ]
  },
  {
   "cell_type": "markdown",
   "metadata": {},
   "source": [
    "## Q:3 Differentiate between function and method?\n",
    "#### A function is a piece of code that is called by name. It can be passed data to operate on (i.e. the parameters) and can optionally return data (the return value). All data that is passed to a function is explicitly passed.\n",
    "\n",
    "#### A method is a piece of code that is called by a name that is associated with an object. In most respects it is identical to a function except for two key differences:\n",
    "\n",
    "#### A method is implicitly passed the object on which it was called.\n",
    "#### A method is able to operate on data that is contained within the class (remembering that an object is an instance of a class - the class is the definition, the object is an instance of that data"
   ]
  },
  {
   "cell_type": "markdown",
   "metadata": {},
   "source": [
    "## Q:4 Define the following terms:\n",
    "#### 1. Class : Class is a blueprint for creating objects (a particular data structure), providing initial values for state (member variables or attributes), and implementations of behavior (member functions or methods).\n",
    "\n",
    "#### 2. Object : Object is an instance of a class. Objects have states and behaviors.\n",
    "#### 3. Attribute : Attributes are the individual things that differentiate one object from another and determine the appearance, state, or other qualities of that object\n",
    "#### 4. Behavior : A class's behavior determines how an instance of that class operates; for example, how it will \"react\" if asked to do something by another class or object or if its internal state changes. Behavior is the only way objects can do anything to themselves or have anything done to them."
   ]
  },
  {
   "cell_type": "code",
   "execution_count": 4,
   "metadata": {},
   "outputs": [
    {
     "name": "stdout",
     "output_type": "stream",
     "text": [
      "7\n",
      "red\n",
      "12\n",
      "black\n",
      "8\n",
      "blue\n",
      "8\n",
      "gray\n",
      "8\n",
      "white\n"
     ]
    }
   ],
   "source": [
    "class Car(object):\n",
    "    def __init__(self, name,model, passengers, color, speed):\n",
    "        self.name = name\n",
    "        self.model = model\n",
    "        self.passengers = passengers\n",
    "        self.color = color\n",
    "        self.speed = speed\n",
    "\n",
    "    def accelerate(self):\n",
    "        self.speed = self.speed + 2\n",
    "        print (self.speed)\n",
    "\n",
    "    def breaks(self):\n",
    "        self.speed = 0\n",
    "        print (self.speed)\n",
    "    \n",
    "    def run(self):\n",
    "        self.speed = 40\n",
    "        print (self.speed)\n",
    "\n",
    "        \n",
    "bmw = Car(\"BMW\",2001, 4, \"red\", 5)\n",
    "ferrari = Car(\"Ferrari\", 2004,2, \"black\", 10)\n",
    "ford = Car(\"Ford\", 1998,6, \"blue\", 6)\n",
    "jet = Car(\"Jet\",2003, 6, \"gray\", 6)\n",
    "eagle = Car(\"Eagle\",2005, 6, \"white\", 6)\n",
    "\n",
    "bmw.accelerate()\n",
    "print (bmw.color)\n",
    "\n",
    "ferrari.accelerate()\n",
    "print (ferrari.color)\n",
    "\n",
    "ford.accelerate()\n",
    "print (ford.color)\n",
    "\n",
    "jet.accelerate()\n",
    "print (jet.color)\n",
    "\n",
    "eagle.accelerate()\n",
    "print (eagle.color)"
   ]
  },
  {
   "cell_type": "code",
   "execution_count": null,
   "metadata": {},
   "outputs": [],
   "source": []
  }
 ],
 "metadata": {
  "kernelspec": {
   "display_name": "Python 3",
   "language": "python",
   "name": "python3"
  },
  "language_info": {
   "codemirror_mode": {
    "name": "ipython",
    "version": 3
   },
   "file_extension": ".py",
   "mimetype": "text/x-python",
   "name": "python",
   "nbconvert_exporter": "python",
   "pygments_lexer": "ipython3",
   "version": "3.7.4"
  }
 },
 "nbformat": 4,
 "nbformat_minor": 2
}
