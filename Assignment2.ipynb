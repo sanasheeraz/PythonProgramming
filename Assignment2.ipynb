{
 "cells": [
  {
   "cell_type": "code",
   "execution_count": 10,
   "metadata": {
    "scrolled": false
   },
   "outputs": [
    {
     "name": "stdout",
     "output_type": "stream",
     "text": [
      "Enter marks of English out of 100: 77\n",
      "Enter marks of Urdu out of 100: 76\n",
      "Enter marks of Maths out of 100: 87\n",
      "Enter marks of the Computer out of 100: 98\n",
      "Enter marks of Pakistan Studies out of 100: 67\n",
      "Total Marks : 405\n",
      "Percentage : 73.2%\n",
      "Grade: A\n"
     ]
    }
   ],
   "source": [
    "English=int(input(\"Enter marks of English out of 100: \"))\n",
    "Urdu=int(input(\"Enter marks of Urdu out of 100: \"))\n",
    "Maths=int(input(\"Enter marks of Maths out of 100: \"))\n",
    "Computer=int(input(\"Enter marks of the Computer out of 100: \"))\n",
    "PSt=int(input(\"Enter marks of Pakistan Studies out of 100: \"))\n",
    "total=English+Urdu+Maths+Computer+PSt\n",
    "print(\"Total Marks : \",end=\"\")\n",
    "print(total)\n",
    "print(\"Percentage : \",end=\"\")\n",
    "print(percentage,end=\"\")\n",
    "print(\"%\")\n",
    "percentage=(total/500)*100\n",
    "if(percentage>=80):\n",
    "    print(\"Grade: A\")\n",
    "elif(percentage>=70 and percentage<80):\n",
    "    print(\"Grade: B\")\n",
    "elif(percentage>=60 and percentage<70):\n",
    "    print(\"Grade: C\")\n",
    "elif(percentage>=50 and percentage<60):\n",
    "    print(\"Grade: D\")\n",
    "else:\n",
    "    print(\"Grade: F\")"
   ]
  },
  {
   "cell_type": "code",
   "execution_count": 13,
   "metadata": {},
   "outputs": [
    {
     "name": "stdout",
     "output_type": "stream",
     "text": [
      "Enter any number to check even or odd : 54\n",
      "Even Number \n"
     ]
    }
   ],
   "source": [
    "number=int(input(\"Enter any number to check even or odd : \"))\n",
    "if(number%2==0):\n",
    "    print(\"Even Number \")\n",
    "else:\n",
    "    print(\"Odd\")"
   ]
  },
  {
   "cell_type": "code",
   "execution_count": 45,
   "metadata": {
    "scrolled": true
   },
   "outputs": [
    {
     "name": "stdout",
     "output_type": "stream",
     "text": [
      "Using built in function\n",
      "Length of List is :  5\n",
      "Length of List1 is :  4\n",
      "Using manual coding\n",
      "Length of List is :  5\n",
      "Length of List1 is :  4\n"
     ]
    }
   ],
   "source": [
    "lst=[1,4,5,7,6]\n",
    "lst1=[\"abc\",\"cde\",\"fgh\",\"ijk\"]\n",
    "print(\"Using built in function\")\n",
    "print(\"Length of List is : \",len(lst))\n",
    "print(\"Length of List1 is : \",len(lst1))\n",
    "count=0\n",
    "for n in lst:\n",
    "    count+=1\n",
    "print(\"Using manual coding\")\n",
    "print(\"Length of List is : \",count)\n",
    "count=0\n",
    "for n in lst1:\n",
    "    count+=1\n",
    "print(\"Length of List1 is : \",count)\n"
   ]
  },
  {
   "cell_type": "code",
   "execution_count": 40,
   "metadata": {},
   "outputs": [
    {
     "name": "stdout",
     "output_type": "stream",
     "text": [
      "Using built in function \n",
      "Sum of all numbers in a list is :  35\n",
      "Using manual coding\n",
      "Sum of all numbers in a list is :  35\n"
     ]
    }
   ],
   "source": [
    "lst=[1,4,6,7,8,9]\n",
    "print(\"Using built in function \")\n",
    "print(\"Sum of all numbers in a list is : \",sum(lst))\n",
    "print(\"Using manual coding\")\n",
    "total=0\n",
    "for n in range(0, len(lst)): \n",
    "    total = total + lst[n] \n",
    "print(\"Sum of all numbers in a list is : \",total)"
   ]
  },
  {
   "cell_type": "code",
   "execution_count": 43,
   "metadata": {},
   "outputs": [
    {
     "name": "stdout",
     "output_type": "stream",
     "text": [
      "Using buit in function\n",
      "Largest number is :  99\n",
      "Using manual coding\n",
      "Largest number is :  99\n"
     ]
    }
   ],
   "source": [
    "lst=[22,15,87,45,99]\n",
    "print(\"Using buit in function\")\n",
    "print(\"Largest number is : \",max(lst))\n",
    "largest=lst[0]\n",
    "for a in lst:\n",
    "    if a > largest:\n",
    "        largest = a\n",
    "print(\"Using manual coding\")\n",
    "print(\"Largest number is : \",largest)"
   ]
  },
  {
   "cell_type": "code",
   "execution_count": 46,
   "metadata": {},
   "outputs": [
    {
     "name": "stdout",
     "output_type": "stream",
     "text": [
      "8\n",
      "13\n",
      "21\n",
      "34\n",
      "55\n",
      "89\n"
     ]
    }
   ],
   "source": [
    "a = [1, 1, 2, 3, 5, 8, 13, 21, 34, 55, 89]\n",
    "for n in a:\n",
    "    if n > 5:\n",
    "        print(n)"
   ]
  }
 ],
 "metadata": {
  "kernelspec": {
   "display_name": "Python 3",
   "language": "python",
   "name": "python3"
  },
  "language_info": {
   "codemirror_mode": {
    "name": "ipython",
    "version": 3
   },
   "file_extension": ".py",
   "mimetype": "text/x-python",
   "name": "python",
   "nbconvert_exporter": "python",
   "pygments_lexer": "ipython3",
   "version": "3.7.4"
  }
 },
 "nbformat": 4,
 "nbformat_minor": 2
}
