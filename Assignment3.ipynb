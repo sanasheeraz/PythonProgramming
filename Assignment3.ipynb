{
 "cells": [
  {
   "cell_type": "code",
   "execution_count": 8,
   "metadata": {},
   "outputs": [
    {
     "name": "stdout",
     "output_type": "stream",
     "text": [
      "Select operation.\n",
      "1.Add\n",
      "2.Subtract\n",
      "3.Multiply\n",
      "4.Divide\n",
      "5.Power\n",
      "Enter choice(1/2/3/4/5): 5\n",
      "Enter first number: 3\n",
      "Enter second number: 3\n",
      "3 ^ 3 = 27\n"
     ]
    }
   ],
   "source": [
    "def add(x, y):\n",
    "   return x + y\n",
    "def subtract(x, y):\n",
    "   return x - y\n",
    "def multiply(x, y):\n",
    "   return x * y\n",
    "def divide(x, y):\n",
    "   return x / y\n",
    "def power(x, y):\n",
    "   return x ** y\n",
    "print(\"Select operation.\")\n",
    "print(\"1.Add\")\n",
    "print(\"2.Subtract\")\n",
    "print(\"3.Multiply\")\n",
    "print(\"4.Divide\")\n",
    "print(\"5.Power\")\n",
    "choice = input(\"Enter choice(1/2/3/4/5): \")\n",
    "num1 = int(input(\"Enter first number: \"))\n",
    "num2 = int(input(\"Enter second number: \"))\n",
    "if choice == '1':\n",
    "   print(num1,\"+\",num2,\"=\", add(num1,num2))\n",
    "elif choice == '2':\n",
    "   print(num1,\"-\",num2,\"=\", subtract(num1,num2))\n",
    "elif choice == '3':\n",
    "   print(num1,\"*\",num2,\"=\", multiply(num1,num2))\n",
    "elif choice == '4':\n",
    "   print(num1,\"/\",num2,\"=\", divide(num1,num2))\n",
    "elif choice == '5':\n",
    "   print(num1,\"^\",num2,\"=\", power(num1,num2))\n",
    "else:\n",
    "   print(\"Invalid input\")"
   ]
  },
  {
   "cell_type": "code",
   "execution_count": 28,
   "metadata": {},
   "outputs": [
    {
     "name": "stdout",
     "output_type": "stream",
     "text": [
      "there is a numeric value in the list\n"
     ]
    }
   ],
   "source": [
    "lst = [ 'a',\"abc\",\"xyz\",4,'b' ]\n",
    "isNumeric=False;\n",
    "for i in lst: \n",
    "    if(isinstance(i,int)):\n",
    "         isNumeric=True;\n",
    "if(isNumeric==True):\n",
    "    print(\"there is a numeric value in the list\");\n",
    "else:\n",
    "    print(\"there is not a numeric value in the list\");"
   ]
  },
  {
   "cell_type": "code",
   "execution_count": 25,
   "metadata": {},
   "outputs": [
    {
     "name": "stdout",
     "output_type": "stream",
     "text": [
      "Original dictionary :  {0: 15, 1: 20, 2: 25}\n",
      "Updated dictionary :  {0: 15, 1: 20, 2: 25, 3: 30}\n"
     ]
    }
   ],
   "source": [
    "dic={0:15 , 1:20 ,2:25};\n",
    "print(\"Original dictionary : \",dic);\n",
    "dic.update({3:30});\n",
    "print(\"Updated dictionary : \",dic);"
   ]
  },
  {
   "cell_type": "code",
   "execution_count": 33,
   "metadata": {},
   "outputs": [
    {
     "name": "stdout",
     "output_type": "stream",
     "text": [
      "Sum of all integer items is :  65\n"
     ]
    }
   ],
   "source": [
    "dic={0:15 , 1:20 ,2:25 ,5:5};\n",
    "sum = 0\n",
    "for i in dic: \n",
    "    sum = sum + dic[i];\n",
    "print(\"Sum of all integer items is : \",sum);"
   ]
  },
  {
   "cell_type": "code",
   "execution_count": 36,
   "metadata": {},
   "outputs": [
    {
     "name": "stdout",
     "output_type": "stream",
     "text": [
      "repeated values are :  [20, 30, -20, 60]\n"
     ]
    }
   ],
   "source": [
    "lst = [10, 20, 30, 20, 20, 30, 40, 50, -20, 60, 60, -20, -20] \n",
    "size = len(lst) \n",
    "repeated = [] \n",
    "for i in range(size): \n",
    "    k = i + 1;\n",
    "    for j in range(k,size): \n",
    "        if lst[i] == lst[j] and lst[i] not in repeated: \n",
    "            repeated.append(lst[i]) \n",
    "\n",
    "print(\"repeated values are : \",repeated);"
   ]
  },
  {
   "cell_type": "code",
   "execution_count": null,
   "metadata": {},
   "outputs": [],
   "source": []
  }
 ],
 "metadata": {
  "kernelspec": {
   "display_name": "Python 3",
   "language": "python",
   "name": "python3"
  },
  "language_info": {
   "codemirror_mode": {
    "name": "ipython",
    "version": 3
   },
   "file_extension": ".py",
   "mimetype": "text/x-python",
   "name": "python",
   "nbconvert_exporter": "python",
   "pygments_lexer": "ipython3",
   "version": "3.7.4"
  }
 },
 "nbformat": 4,
 "nbformat_minor": 2
}
